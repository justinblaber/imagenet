{
 "cells": [
  {
   "cell_type": "markdown",
   "metadata": {},
   "source": [
    "Downloading and using the images in imagenet today (04/18/2020) is actually surprisingly difficult. The imagenet website requires you to request access, but I never got approval. They also have a list of image URLs but some of them are no longer valid. Another way to get the images is to use `academictorrents.com`. I have not been able to find an alternative source for these images. This notebook documents how I was able to download and format the data.\n",
    "\n",
    "NOTE: Just use the 2017 torrent. It contains the same data as the 2012 set plus its already organized and it contains additional annotations"
   ]
  },
  {
   "cell_type": "markdown",
   "metadata": {},
   "source": [
    "# Import"
   ]
  },
  {
   "cell_type": "code",
   "execution_count": 67,
   "metadata": {
    "ExecuteTime": {
     "end_time": "2020-04-18T17:34:52.237851Z",
     "start_time": "2020-04-18T17:34:51.596197Z"
    }
   },
   "outputs": [],
   "source": [
    "from pathlib import Path\n",
    "import shutil\n",
    "import os\n",
    "import pandas as pd"
   ]
  },
  {
   "cell_type": "markdown",
   "metadata": {},
   "source": [
    "# Config"
   ]
  },
  {
   "cell_type": "code",
   "execution_count": 7,
   "metadata": {
    "ExecuteTime": {
     "end_time": "2020-04-18T15:47:31.339367Z",
     "start_time": "2020-04-18T15:47:31.337101Z"
    }
   },
   "outputs": [],
   "source": [
    "dir_data = Path('/data')"
   ]
  },
  {
   "cell_type": "markdown",
   "metadata": {},
   "source": [
    "# LSVRC 2012"
   ]
  },
  {
   "cell_type": "markdown",
   "metadata": {
    "ExecuteTime": {
     "end_time": "2020-04-18T15:36:24.345777Z",
     "start_time": "2020-04-18T15:36:24.335286Z"
    }
   },
   "source": [
    "I guess this is the set released in the year 2012. I used the following two links:\n",
    "\n",
    "* training - [https://academictorrents.com/details/a306397ccf9c2ead27155983c254227c0fd938e2](https://academictorrents.com/details/a306397ccf9c2ead27155983c254227c0fd938e2)\n",
    "* validation - [https://academictorrents.com/details/5d6d0df7ed81efd49ca99ea4737e0ae5e3a5f2e5](https://academictorrents.com/details/5d6d0df7ed81efd49ca99ea4737e0ae5e3a5f2e5)\n",
    "\n",
    "Even though these are for \"object detection\" these contain just the images and the class labels based on the file names."
   ]
  },
  {
   "cell_type": "code",
   "execution_count": 19,
   "metadata": {
    "ExecuteTime": {
     "end_time": "2020-04-18T16:00:04.781874Z",
     "start_time": "2020-04-18T16:00:04.779653Z"
    }
   },
   "outputs": [],
   "source": [
    "dir_imagenet_2012 = dir_data/'IMAGENET'/'2012'\n",
    "dir_imagenet_2012.mkdir(parents=True, exist_ok=True)"
   ]
  },
  {
   "cell_type": "markdown",
   "metadata": {
    "heading_collapsed": true
   },
   "source": [
    "### Download and format the training data"
   ]
  },
  {
   "cell_type": "code",
   "execution_count": 20,
   "metadata": {
    "ExecuteTime": {
     "end_time": "2020-04-18T16:00:06.749867Z",
     "start_time": "2020-04-18T16:00:06.742647Z"
    },
    "hidden": true
   },
   "outputs": [],
   "source": [
    "dir_trn = dir_imagenet_2012/'TRN'\n",
    "dir_trn.mkdir(exist_ok=True)\n",
    "file_trn_torrent = dir_trn/'trn.torrent'\n",
    "file_trn_tar = dir_trn/'trn.tar'"
   ]
  },
  {
   "cell_type": "markdown",
   "metadata": {
    "hidden": true
   },
   "source": [
    "Download the torrent file:"
   ]
  },
  {
   "cell_type": "code",
   "execution_count": null,
   "metadata": {
    "hidden": true
   },
   "outputs": [],
   "source": [
    "!wget https://academictorrents.com/download/a306397ccf9c2ead27155983c254227c0fd938e2.torrent -O {file_trn_torrent}"
   ]
  },
  {
   "cell_type": "markdown",
   "metadata": {
    "hidden": true
   },
   "source": [
    "Use `ctorrent` to download the tar file:"
   ]
  },
  {
   "cell_type": "code",
   "execution_count": null,
   "metadata": {
    "ExecuteTime": {
     "end_time": "2020-04-18T16:19:04.897991Z",
     "start_time": "2020-04-18T16:00:17.290555Z"
    },
    "hidden": true
   },
   "outputs": [],
   "source": [
    "!ctorrent {file_trn_torrent} -s {file_trn_tar}"
   ]
  },
  {
   "cell_type": "markdown",
   "metadata": {
    "ExecuteTime": {
     "end_time": "2020-04-18T15:57:46.381597Z",
     "start_time": "2020-04-18T15:57:46.265608Z"
    },
    "hidden": true
   },
   "source": [
    "Untar file:"
   ]
  },
  {
   "cell_type": "code",
   "execution_count": null,
   "metadata": {
    "ExecuteTime": {
     "end_time": "2020-04-18T16:23:52.481142Z",
     "start_time": "2020-04-18T16:20:25.295899Z"
    },
    "hidden": true
   },
   "outputs": [],
   "source": [
    "!tar -xvf {file_trn_tar} -C {dir_trn}"
   ]
  },
  {
   "cell_type": "markdown",
   "metadata": {
    "hidden": true
   },
   "source": [
    "Remove tar and torrent file:"
   ]
  },
  {
   "cell_type": "code",
   "execution_count": 25,
   "metadata": {
    "ExecuteTime": {
     "end_time": "2020-04-18T16:28:03.195299Z",
     "start_time": "2020-04-18T16:28:03.191469Z"
    },
    "hidden": true
   },
   "outputs": [],
   "source": [
    "file_trn_torrent.unlink()\n",
    "file_trn_tar.unlink()"
   ]
  },
  {
   "cell_type": "code",
   "execution_count": 38,
   "metadata": {
    "ExecuteTime": {
     "end_time": "2020-04-18T16:35:56.959938Z",
     "start_time": "2020-04-18T16:35:56.951310Z"
    },
    "hidden": true
   },
   "outputs": [
    {
     "data": {
      "text/plain": [
       "1000"
      ]
     },
     "execution_count": 38,
     "metadata": {},
     "output_type": "execute_result"
    }
   ],
   "source": [
    "files_class_tar = list(dir_trn.glob('*.tar'))\n",
    "len(files_class_tar)"
   ]
  },
  {
   "cell_type": "markdown",
   "metadata": {
    "hidden": true
   },
   "source": [
    "There are 1000 classes, so it seems each tar corresponds to each class"
   ]
  },
  {
   "cell_type": "code",
   "execution_count": 41,
   "metadata": {
    "ExecuteTime": {
     "end_time": "2020-04-18T16:36:39.241150Z",
     "start_time": "2020-04-18T16:36:39.238383Z"
    },
    "hidden": true
   },
   "outputs": [],
   "source": [
    "def _process_class_tar(file_class_tar):\n",
    "    dir_class = dir_trn/file_class_tar.stem\n",
    "    dir_class.mkdir(exist_ok=True)\n",
    "    shutil.move(file_class_tar.as_posix(), dir_class)\n",
    "    os.system(f'tar -xvf {dir_class/file_class_tar.name} -C {dir_class}')\n",
    "    (dir_class/file_class_tar.name).unlink()"
   ]
  },
  {
   "cell_type": "code",
   "execution_count": 42,
   "metadata": {
    "ExecuteTime": {
     "end_time": "2020-04-18T16:39:56.362736Z",
     "start_time": "2020-04-18T16:36:39.675002Z"
    },
    "hidden": true
   },
   "outputs": [],
   "source": [
    "for file_class_tar in files_class_tar:\n",
    "    _process_class_tar(file_class_tar)"
   ]
  },
  {
   "cell_type": "markdown",
   "metadata": {
    "ExecuteTime": {
     "end_time": "2020-04-18T16:41:02.735032Z",
     "start_time": "2020-04-18T16:41:02.730464Z"
    },
    "hidden": true
   },
   "source": [
    "NOTE: Do not convert class folders to the class name. For example, there are two \"crane\" classes, one of the animal and the other of the machine..."
   ]
  },
  {
   "cell_type": "markdown",
   "metadata": {
    "hidden": true
   },
   "source": [
    "Copy class labels to train directory"
   ]
  },
  {
   "cell_type": "code",
   "execution_count": 48,
   "metadata": {
    "ExecuteTime": {
     "end_time": "2020-04-18T17:05:37.952669Z",
     "start_time": "2020-04-18T17:05:37.911101Z"
    },
    "hidden": true
   },
   "outputs": [
    {
     "data": {
      "text/plain": [
       "PosixPath('/data/IMAGENET/2012/TRN/trn.txt')"
      ]
     },
     "execution_count": 48,
     "metadata": {},
     "output_type": "execute_result"
    }
   ],
   "source": [
    "shutil.copy('train.txt', dir_trn/'trn.txt')"
   ]
  },
  {
   "cell_type": "markdown",
   "metadata": {
    "heading_collapsed": true
   },
   "source": [
    "### Download and format the validation data"
   ]
  },
  {
   "cell_type": "code",
   "execution_count": 49,
   "metadata": {
    "ExecuteTime": {
     "end_time": "2020-04-18T17:09:05.740597Z",
     "start_time": "2020-04-18T17:09:05.737999Z"
    },
    "hidden": true
   },
   "outputs": [],
   "source": [
    "dir_val = dir_imagenet_2012/'VAL'\n",
    "dir_val.mkdir(exist_ok=True)\n",
    "file_val_torrent = dir_val/'val.torrent'\n",
    "file_val_tar = dir_val/'val.tar'"
   ]
  },
  {
   "cell_type": "markdown",
   "metadata": {
    "hidden": true
   },
   "source": [
    "Download the torrent file:"
   ]
  },
  {
   "cell_type": "code",
   "execution_count": null,
   "metadata": {
    "ExecuteTime": {
     "end_time": "2020-04-18T17:09:53.835592Z",
     "start_time": "2020-04-18T17:09:52.869770Z"
    },
    "hidden": true
   },
   "outputs": [],
   "source": [
    "!wget https://academictorrents.com/download/5d6d0df7ed81efd49ca99ea4737e0ae5e3a5f2e5.torrent -O {file_val_torrent}"
   ]
  },
  {
   "cell_type": "markdown",
   "metadata": {
    "ExecuteTime": {
     "end_time": "2020-04-18T17:10:12.312421Z",
     "start_time": "2020-04-18T17:10:12.301917Z"
    },
    "hidden": true
   },
   "source": [
    "Use `ctorrent` to download the tar file:"
   ]
  },
  {
   "cell_type": "code",
   "execution_count": null,
   "metadata": {
    "ExecuteTime": {
     "end_time": "2020-04-18T17:10:36.066582Z",
     "start_time": "2020-04-18T17:10:28.269133Z"
    },
    "hidden": true
   },
   "outputs": [],
   "source": [
    "!ctorrent {file_val_torrent} -s {file_val_tar}"
   ]
  },
  {
   "cell_type": "markdown",
   "metadata": {
    "hidden": true
   },
   "source": [
    "Untar file:"
   ]
  },
  {
   "cell_type": "code",
   "execution_count": null,
   "metadata": {
    "ExecuteTime": {
     "end_time": "2020-04-18T17:13:41.383101Z",
     "start_time": "2020-04-18T17:13:34.082243Z"
    },
    "hidden": true
   },
   "outputs": [],
   "source": [
    "!tar -xvf {file_val_tar} -C {dir_val}"
   ]
  },
  {
   "cell_type": "markdown",
   "metadata": {
    "ExecuteTime": {
     "end_time": "2020-04-18T17:14:59.951684Z",
     "start_time": "2020-04-18T17:14:59.948686Z"
    },
    "hidden": true
   },
   "source": [
    "Remove tar and torrent file:"
   ]
  },
  {
   "cell_type": "code",
   "execution_count": 56,
   "metadata": {
    "ExecuteTime": {
     "end_time": "2020-04-18T17:15:11.429825Z",
     "start_time": "2020-04-18T17:15:11.177943Z"
    },
    "hidden": true
   },
   "outputs": [],
   "source": [
    "file_val_torrent.unlink()\n",
    "file_val_tar.unlink()"
   ]
  },
  {
   "cell_type": "markdown",
   "metadata": {
    "hidden": true
   },
   "source": [
    "Copy class labels to validation directory"
   ]
  },
  {
   "cell_type": "code",
   "execution_count": 57,
   "metadata": {
    "ExecuteTime": {
     "end_time": "2020-04-18T17:18:21.200378Z",
     "start_time": "2020-04-18T17:18:21.196112Z"
    },
    "hidden": true
   },
   "outputs": [
    {
     "data": {
      "text/plain": [
       "PosixPath('/data/IMAGENET/2012/VAL/val.txt')"
      ]
     },
     "execution_count": 57,
     "metadata": {},
     "output_type": "execute_result"
    }
   ],
   "source": [
    "shutil.copy('val.txt', dir_val/'val.txt')"
   ]
  },
  {
   "cell_type": "markdown",
   "metadata": {
    "heading_collapsed": true
   },
   "source": [
    "### Format the test data"
   ]
  },
  {
   "cell_type": "markdown",
   "metadata": {
    "hidden": true
   },
   "source": [
    "After some googling, I was able to find a test set hosted here:\n",
    "\n",
    "* test - [http://169.44.201.108:7002/imagenet/test/ILSVRC2012_img_test.tar](http://169.44.201.108:7002/imagenet/test/ILSVRC2012_img_test.tar)\n",
    "\n",
    "It also houses the training and validation sets, but I'm not sure how long the above will stay online, so I'll leave the academic torrent instructions there"
   ]
  },
  {
   "cell_type": "code",
   "execution_count": 59,
   "metadata": {
    "ExecuteTime": {
     "end_time": "2020-04-18T17:25:35.312633Z",
     "start_time": "2020-04-18T17:25:35.310470Z"
    },
    "hidden": true
   },
   "outputs": [],
   "source": [
    "dir_tst = dir_imagenet_2012/'TST'\n",
    "file_tst_tar = dir_tst/'ILSVRC2012_img_test.tar'"
   ]
  },
  {
   "cell_type": "code",
   "execution_count": null,
   "metadata": {
    "ExecuteTime": {
     "end_time": "2020-04-18T17:25:59.641727Z",
     "start_time": "2020-04-18T17:25:42.798585Z"
    },
    "hidden": true
   },
   "outputs": [],
   "source": [
    "!tar -xvf {file_tst_tar} -C {dir_tst}"
   ]
  },
  {
   "cell_type": "code",
   "execution_count": 61,
   "metadata": {
    "ExecuteTime": {
     "end_time": "2020-04-18T17:26:34.505484Z",
     "start_time": "2020-04-18T17:26:34.170478Z"
    },
    "hidden": true
   },
   "outputs": [],
   "source": [
    "file_tst_tar.unlink()"
   ]
  },
  {
   "cell_type": "code",
   "execution_count": 62,
   "metadata": {
    "ExecuteTime": {
     "end_time": "2020-04-18T17:26:47.903361Z",
     "start_time": "2020-04-18T17:26:47.894642Z"
    },
    "hidden": true
   },
   "outputs": [
    {
     "data": {
      "text/plain": [
       "PosixPath('/data/IMAGENET/2012/TST/tst.txt')"
      ]
     },
     "execution_count": 62,
     "metadata": {},
     "output_type": "execute_result"
    }
   ],
   "source": [
    "shutil.copy('test.txt', dir_tst/'tst.txt')"
   ]
  },
  {
   "cell_type": "markdown",
   "metadata": {
    "heading_collapsed": true
   },
   "source": [
    "### Match codes to synsets and words"
   ]
  },
  {
   "cell_type": "code",
   "execution_count": 64,
   "metadata": {
    "ExecuteTime": {
     "end_time": "2020-04-18T17:33:41.102937Z",
     "start_time": "2020-04-18T17:33:41.099483Z"
    },
    "hidden": true
   },
   "outputs": [
    {
     "data": {
      "text/plain": [
       "'/data/IMAGENET/2012/synset_words.txt'"
      ]
     },
     "execution_count": 64,
     "metadata": {},
     "output_type": "execute_result"
    }
   ],
   "source": [
    "shutil.copy('synset_words.txt', dir_imagenet_2012)"
   ]
  },
  {
   "cell_type": "markdown",
   "metadata": {
    "hidden": true
   },
   "source": [
    "Read synset to words table"
   ]
  },
  {
   "cell_type": "code",
   "execution_count": 65,
   "metadata": {
    "ExecuteTime": {
     "end_time": "2020-04-18T17:33:56.524994Z",
     "start_time": "2020-04-18T17:33:56.523058Z"
    },
    "hidden": true
   },
   "outputs": [],
   "source": [
    "file_synset_words = dir_imagenet_2012/'synset_words.txt'"
   ]
  },
  {
   "cell_type": "code",
   "execution_count": 72,
   "metadata": {
    "ExecuteTime": {
     "end_time": "2020-04-18T17:37:53.865485Z",
     "start_time": "2020-04-18T17:37:53.861039Z"
    },
    "hidden": true
   },
   "outputs": [],
   "source": [
    "df_synset_words = pd.read_table(file_synset_words, header=None)"
   ]
  },
  {
   "cell_type": "code",
   "execution_count": 81,
   "metadata": {
    "ExecuteTime": {
     "end_time": "2020-04-18T17:40:31.284866Z",
     "start_time": "2020-04-18T17:40:31.273227Z"
    },
    "hidden": true
   },
   "outputs": [
    {
     "data": {
      "text/html": [
       "<div>\n",
       "<style scoped>\n",
       "    .dataframe tbody tr th:only-of-type {\n",
       "        vertical-align: middle;\n",
       "    }\n",
       "\n",
       "    .dataframe tbody tr th {\n",
       "        vertical-align: top;\n",
       "    }\n",
       "\n",
       "    .dataframe thead th {\n",
       "        text-align: right;\n",
       "    }\n",
       "</style>\n",
       "<table border=\"1\" class=\"dataframe\">\n",
       "  <thead>\n",
       "    <tr style=\"text-align: right;\">\n",
       "      <th></th>\n",
       "      <th>synset</th>\n",
       "      <th>words</th>\n",
       "    </tr>\n",
       "  </thead>\n",
       "  <tbody>\n",
       "    <tr>\n",
       "      <th>0</th>\n",
       "      <td>n01440764</td>\n",
       "      <td>tench, Tinca tinca</td>\n",
       "    </tr>\n",
       "    <tr>\n",
       "      <th>1</th>\n",
       "      <td>n01443537</td>\n",
       "      <td>goldfish, Carassius auratus</td>\n",
       "    </tr>\n",
       "    <tr>\n",
       "      <th>2</th>\n",
       "      <td>n01484850</td>\n",
       "      <td>great white shark, white shark, man-eater, man...</td>\n",
       "    </tr>\n",
       "    <tr>\n",
       "      <th>3</th>\n",
       "      <td>n01491361</td>\n",
       "      <td>tiger shark, Galeocerdo cuvieri</td>\n",
       "    </tr>\n",
       "    <tr>\n",
       "      <th>4</th>\n",
       "      <td>n01494475</td>\n",
       "      <td>hammerhead, hammerhead shark</td>\n",
       "    </tr>\n",
       "  </tbody>\n",
       "</table>\n",
       "</div>"
      ],
      "text/plain": [
       "      synset                                              words\n",
       "0  n01440764                                 tench, Tinca tinca\n",
       "1  n01443537                        goldfish, Carassius auratus\n",
       "2  n01484850  great white shark, white shark, man-eater, man...\n",
       "3  n01491361                    tiger shark, Galeocerdo cuvieri\n",
       "4  n01494475                       hammerhead, hammerhead shark"
      ]
     },
     "execution_count": 81,
     "metadata": {},
     "output_type": "execute_result"
    }
   ],
   "source": [
    "df_synset_words[['synset','words']] = df_synset_words[0].str.split(' ', 1, expand=True)\n",
    "df_synset_words.drop(columns=[0], inplace=True)\n",
    "df_synset_words.head()"
   ]
  },
  {
   "cell_type": "markdown",
   "metadata": {
    "hidden": true
   },
   "source": [
    "Get codes dataframes; start by reading the train text file"
   ]
  },
  {
   "cell_type": "code",
   "execution_count": 97,
   "metadata": {
    "ExecuteTime": {
     "end_time": "2020-04-18T17:51:38.411439Z",
     "start_time": "2020-04-18T17:51:37.808031Z"
    },
    "hidden": true
   },
   "outputs": [],
   "source": [
    "df_synset_codes = pd.read_table(dir_imagenet_2012/'TRN'/'trn.txt', header=None)"
   ]
  },
  {
   "cell_type": "code",
   "execution_count": 98,
   "metadata": {
    "ExecuteTime": {
     "end_time": "2020-04-18T17:51:42.439751Z",
     "start_time": "2020-04-18T17:51:40.115540Z"
    },
    "hidden": true
   },
   "outputs": [
    {
     "data": {
      "text/html": [
       "<div>\n",
       "<style scoped>\n",
       "    .dataframe tbody tr th:only-of-type {\n",
       "        vertical-align: middle;\n",
       "    }\n",
       "\n",
       "    .dataframe tbody tr th {\n",
       "        vertical-align: top;\n",
       "    }\n",
       "\n",
       "    .dataframe thead th {\n",
       "        text-align: right;\n",
       "    }\n",
       "</style>\n",
       "<table border=\"1\" class=\"dataframe\">\n",
       "  <thead>\n",
       "    <tr style=\"text-align: right;\">\n",
       "      <th></th>\n",
       "      <th>path</th>\n",
       "      <th>code</th>\n",
       "    </tr>\n",
       "  </thead>\n",
       "  <tbody>\n",
       "    <tr>\n",
       "      <th>0</th>\n",
       "      <td>n01440764/n01440764_10026.JPEG</td>\n",
       "      <td>0</td>\n",
       "    </tr>\n",
       "    <tr>\n",
       "      <th>1</th>\n",
       "      <td>n01440764/n01440764_10027.JPEG</td>\n",
       "      <td>0</td>\n",
       "    </tr>\n",
       "    <tr>\n",
       "      <th>2</th>\n",
       "      <td>n01440764/n01440764_10029.JPEG</td>\n",
       "      <td>0</td>\n",
       "    </tr>\n",
       "    <tr>\n",
       "      <th>3</th>\n",
       "      <td>n01440764/n01440764_10040.JPEG</td>\n",
       "      <td>0</td>\n",
       "    </tr>\n",
       "    <tr>\n",
       "      <th>4</th>\n",
       "      <td>n01440764/n01440764_10042.JPEG</td>\n",
       "      <td>0</td>\n",
       "    </tr>\n",
       "  </tbody>\n",
       "</table>\n",
       "</div>"
      ],
      "text/plain": [
       "                             path code\n",
       "0  n01440764/n01440764_10026.JPEG    0\n",
       "1  n01440764/n01440764_10027.JPEG    0\n",
       "2  n01440764/n01440764_10029.JPEG    0\n",
       "3  n01440764/n01440764_10040.JPEG    0\n",
       "4  n01440764/n01440764_10042.JPEG    0"
      ]
     },
     "execution_count": 98,
     "metadata": {},
     "output_type": "execute_result"
    }
   ],
   "source": [
    "df_synset_codes[['path','code']] = df_synset_codes[0].str.split(' ', 1, expand=True)\n",
    "df_synset_codes.drop(columns=[0], inplace=True)\n",
    "df_synset_codes.head()"
   ]
  },
  {
   "cell_type": "code",
   "execution_count": 99,
   "metadata": {
    "ExecuteTime": {
     "end_time": "2020-04-18T17:51:44.952846Z",
     "start_time": "2020-04-18T17:51:42.464109Z"
    },
    "hidden": true
   },
   "outputs": [
    {
     "data": {
      "text/html": [
       "<div>\n",
       "<style scoped>\n",
       "    .dataframe tbody tr th:only-of-type {\n",
       "        vertical-align: middle;\n",
       "    }\n",
       "\n",
       "    .dataframe tbody tr th {\n",
       "        vertical-align: top;\n",
       "    }\n",
       "\n",
       "    .dataframe thead th {\n",
       "        text-align: right;\n",
       "    }\n",
       "</style>\n",
       "<table border=\"1\" class=\"dataframe\">\n",
       "  <thead>\n",
       "    <tr style=\"text-align: right;\">\n",
       "      <th></th>\n",
       "      <th>code</th>\n",
       "      <th>synset</th>\n",
       "    </tr>\n",
       "  </thead>\n",
       "  <tbody>\n",
       "    <tr>\n",
       "      <th>0</th>\n",
       "      <td>0</td>\n",
       "      <td>n01440764</td>\n",
       "    </tr>\n",
       "    <tr>\n",
       "      <th>1</th>\n",
       "      <td>0</td>\n",
       "      <td>n01440764</td>\n",
       "    </tr>\n",
       "    <tr>\n",
       "      <th>2</th>\n",
       "      <td>0</td>\n",
       "      <td>n01440764</td>\n",
       "    </tr>\n",
       "    <tr>\n",
       "      <th>3</th>\n",
       "      <td>0</td>\n",
       "      <td>n01440764</td>\n",
       "    </tr>\n",
       "    <tr>\n",
       "      <th>4</th>\n",
       "      <td>0</td>\n",
       "      <td>n01440764</td>\n",
       "    </tr>\n",
       "  </tbody>\n",
       "</table>\n",
       "</div>"
      ],
      "text/plain": [
       "  code     synset\n",
       "0    0  n01440764\n",
       "1    0  n01440764\n",
       "2    0  n01440764\n",
       "3    0  n01440764\n",
       "4    0  n01440764"
      ]
     },
     "execution_count": 99,
     "metadata": {},
     "output_type": "execute_result"
    }
   ],
   "source": [
    "df_synset_codes['synset'] = df_synset_codes['path'].str.split('/', 0, expand=True)[0]\n",
    "df_synset_codes.drop(columns=['path'], inplace=True)\n",
    "df_synset_codes.head()"
   ]
  },
  {
   "cell_type": "code",
   "execution_count": 101,
   "metadata": {
    "ExecuteTime": {
     "end_time": "2020-04-18T17:51:51.052229Z",
     "start_time": "2020-04-18T17:51:51.042034Z"
    },
    "hidden": true
   },
   "outputs": [
    {
     "data": {
      "text/html": [
       "<div>\n",
       "<style scoped>\n",
       "    .dataframe tbody tr th:only-of-type {\n",
       "        vertical-align: middle;\n",
       "    }\n",
       "\n",
       "    .dataframe tbody tr th {\n",
       "        vertical-align: top;\n",
       "    }\n",
       "\n",
       "    .dataframe thead th {\n",
       "        text-align: right;\n",
       "    }\n",
       "</style>\n",
       "<table border=\"1\" class=\"dataframe\">\n",
       "  <thead>\n",
       "    <tr style=\"text-align: right;\">\n",
       "      <th></th>\n",
       "      <th>code</th>\n",
       "      <th>synset</th>\n",
       "    </tr>\n",
       "  </thead>\n",
       "  <tbody>\n",
       "    <tr>\n",
       "      <th>0</th>\n",
       "      <td>0</td>\n",
       "      <td>n01440764</td>\n",
       "    </tr>\n",
       "    <tr>\n",
       "      <th>1300</th>\n",
       "      <td>1</td>\n",
       "      <td>n01443537</td>\n",
       "    </tr>\n",
       "    <tr>\n",
       "      <th>2600</th>\n",
       "      <td>2</td>\n",
       "      <td>n01484850</td>\n",
       "    </tr>\n",
       "    <tr>\n",
       "      <th>3900</th>\n",
       "      <td>3</td>\n",
       "      <td>n01491361</td>\n",
       "    </tr>\n",
       "    <tr>\n",
       "      <th>5200</th>\n",
       "      <td>4</td>\n",
       "      <td>n01494475</td>\n",
       "    </tr>\n",
       "  </tbody>\n",
       "</table>\n",
       "</div>"
      ],
      "text/plain": [
       "     code     synset\n",
       "0       0  n01440764\n",
       "1300    1  n01443537\n",
       "2600    2  n01484850\n",
       "3900    3  n01491361\n",
       "5200    4  n01494475"
      ]
     },
     "execution_count": 101,
     "metadata": {},
     "output_type": "execute_result"
    }
   ],
   "source": [
    "df_synset_codes = df_synset_codes.drop_duplicates()\n",
    "df_synset_codes.head()"
   ]
  },
  {
   "cell_type": "code",
   "execution_count": 107,
   "metadata": {
    "ExecuteTime": {
     "end_time": "2020-04-18T17:54:16.462061Z",
     "start_time": "2020-04-18T17:54:16.451408Z"
    },
    "hidden": true
   },
   "outputs": [
    {
     "data": {
      "text/html": [
       "<div>\n",
       "<style scoped>\n",
       "    .dataframe tbody tr th:only-of-type {\n",
       "        vertical-align: middle;\n",
       "    }\n",
       "\n",
       "    .dataframe tbody tr th {\n",
       "        vertical-align: top;\n",
       "    }\n",
       "\n",
       "    .dataframe thead th {\n",
       "        text-align: right;\n",
       "    }\n",
       "</style>\n",
       "<table border=\"1\" class=\"dataframe\">\n",
       "  <thead>\n",
       "    <tr style=\"text-align: right;\">\n",
       "      <th></th>\n",
       "      <th>synset</th>\n",
       "      <th>words</th>\n",
       "      <th>code</th>\n",
       "    </tr>\n",
       "  </thead>\n",
       "  <tbody>\n",
       "    <tr>\n",
       "      <th>0</th>\n",
       "      <td>n01440764</td>\n",
       "      <td>tench, Tinca tinca</td>\n",
       "      <td>0</td>\n",
       "    </tr>\n",
       "    <tr>\n",
       "      <th>1</th>\n",
       "      <td>n01443537</td>\n",
       "      <td>goldfish, Carassius auratus</td>\n",
       "      <td>1</td>\n",
       "    </tr>\n",
       "    <tr>\n",
       "      <th>2</th>\n",
       "      <td>n01484850</td>\n",
       "      <td>great white shark, white shark, man-eater, man...</td>\n",
       "      <td>2</td>\n",
       "    </tr>\n",
       "    <tr>\n",
       "      <th>3</th>\n",
       "      <td>n01491361</td>\n",
       "      <td>tiger shark, Galeocerdo cuvieri</td>\n",
       "      <td>3</td>\n",
       "    </tr>\n",
       "    <tr>\n",
       "      <th>4</th>\n",
       "      <td>n01494475</td>\n",
       "      <td>hammerhead, hammerhead shark</td>\n",
       "      <td>4</td>\n",
       "    </tr>\n",
       "    <tr>\n",
       "      <th>...</th>\n",
       "      <td>...</td>\n",
       "      <td>...</td>\n",
       "      <td>...</td>\n",
       "    </tr>\n",
       "    <tr>\n",
       "      <th>995</th>\n",
       "      <td>n13044778</td>\n",
       "      <td>earthstar</td>\n",
       "      <td>995</td>\n",
       "    </tr>\n",
       "    <tr>\n",
       "      <th>996</th>\n",
       "      <td>n13052670</td>\n",
       "      <td>hen-of-the-woods, hen of the woods, Polyporus ...</td>\n",
       "      <td>996</td>\n",
       "    </tr>\n",
       "    <tr>\n",
       "      <th>997</th>\n",
       "      <td>n13054560</td>\n",
       "      <td>bolete</td>\n",
       "      <td>997</td>\n",
       "    </tr>\n",
       "    <tr>\n",
       "      <th>998</th>\n",
       "      <td>n13133613</td>\n",
       "      <td>ear, spike, capitulum</td>\n",
       "      <td>998</td>\n",
       "    </tr>\n",
       "    <tr>\n",
       "      <th>999</th>\n",
       "      <td>n15075141</td>\n",
       "      <td>toilet tissue, toilet paper, bathroom tissue</td>\n",
       "      <td>999</td>\n",
       "    </tr>\n",
       "  </tbody>\n",
       "</table>\n",
       "<p>1000 rows × 3 columns</p>\n",
       "</div>"
      ],
      "text/plain": [
       "        synset                                              words code\n",
       "0    n01440764                                 tench, Tinca tinca    0\n",
       "1    n01443537                        goldfish, Carassius auratus    1\n",
       "2    n01484850  great white shark, white shark, man-eater, man...    2\n",
       "3    n01491361                    tiger shark, Galeocerdo cuvieri    3\n",
       "4    n01494475                       hammerhead, hammerhead shark    4\n",
       "..         ...                                                ...  ...\n",
       "995  n13044778                                          earthstar  995\n",
       "996  n13052670  hen-of-the-woods, hen of the woods, Polyporus ...  996\n",
       "997  n13054560                                             bolete  997\n",
       "998  n13133613                              ear, spike, capitulum  998\n",
       "999  n15075141       toilet tissue, toilet paper, bathroom tissue  999\n",
       "\n",
       "[1000 rows x 3 columns]"
      ]
     },
     "execution_count": 107,
     "metadata": {},
     "output_type": "execute_result"
    }
   ],
   "source": [
    "df_synset_words_and_codes = df_synset_words.merge(df_synset_codes, on='synset')\n",
    "df_synset_words_and_codes"
   ]
  },
  {
   "cell_type": "code",
   "execution_count": 108,
   "metadata": {
    "ExecuteTime": {
     "end_time": "2020-04-18T17:56:00.028435Z",
     "start_time": "2020-04-18T17:56:00.021914Z"
    },
    "hidden": true
   },
   "outputs": [],
   "source": [
    "df_synset_words_and_codes.to_csv(dir_imagenet_2012/'synset_words_and_codes.csv', index=False)"
   ]
  },
  {
   "cell_type": "code",
   "execution_count": 109,
   "metadata": {
    "ExecuteTime": {
     "end_time": "2020-04-18T17:58:39.403534Z",
     "start_time": "2020-04-18T17:58:39.398972Z"
    },
    "hidden": true
   },
   "outputs": [
    {
     "data": {
      "text/plain": [
       "'synset_words_and_codes.csv'"
      ]
     },
     "execution_count": 109,
     "metadata": {},
     "output_type": "execute_result"
    }
   ],
   "source": [
    "shutil.copy(dir_imagenet_2012/'synset_words_and_codes.csv', 'synset_words_and_codes.csv')"
   ]
  },
  {
   "cell_type": "markdown",
   "metadata": {},
   "source": [
    "# LSVRC 2017"
   ]
  },
  {
   "cell_type": "markdown",
   "metadata": {},
   "source": [
    "Ok, so after doing the above, it actually turns out the torrent:\n",
    "* [https://academictorrents.com/details/943977d8c96892d24237638335e481f3ccd54cfb](https://academictorrents.com/details/943977d8c96892d24237638335e481f3ccd54cfb)\n",
    "Contains the same data as the 2012 set above. Further, the data are already organized plus contain annotations, so I'd go this route. "
   ]
  },
  {
   "cell_type": "code",
   "execution_count": null,
   "metadata": {},
   "outputs": [],
   "source": []
  }
 ],
 "metadata": {
  "kernelspec": {
   "display_name": "Python 3",
   "language": "python",
   "name": "python3"
  },
  "varInspector": {
   "cols": {
    "lenName": 16,
    "lenType": 16,
    "lenVar": 40
   },
   "kernels_config": {
    "python": {
     "delete_cmd_postfix": "",
     "delete_cmd_prefix": "del ",
     "library": "var_list.py",
     "varRefreshCmd": "print(var_dic_list())"
    },
    "r": {
     "delete_cmd_postfix": ") ",
     "delete_cmd_prefix": "rm(",
     "library": "var_list.r",
     "varRefreshCmd": "cat(var_dic_list()) "
    }
   },
   "types_to_exclude": [
    "module",
    "function",
    "builtin_function_or_method",
    "instance",
    "_Feature"
   ],
   "window_display": false
  }
 },
 "nbformat": 4,
 "nbformat_minor": 2
}
